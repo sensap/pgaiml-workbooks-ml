{
 "cells": [
  {
   "cell_type": "code",
   "execution_count": 41,
   "metadata": {},
   "outputs": [],
   "source": [
    "# To help with reading and manipulation of data\n",
    "import numpy as np\n",
    "import pandas as pd\n",
    "\n",
    "# # To help with data visualization\n",
    "# import matplotlib.pyplot as plt\n",
    "# import seaborn as sns\n",
    "\n",
    "# To split the data\n",
    "from sklearn.model_selection import train_test_split\n",
    "\n",
    "# Logistic Regression\n",
    "from sklearn.linear_model import LogisticRegression\n",
    "\n",
    "# # To impute missing values\n",
    "# from sklearn.impute import SimpleImputer\n",
    "\n",
    "# # To build a Random forest classifier\n",
    "# from sklearn.ensemble import RandomForestClassifier\n",
    "\n",
    "# # To tune a model\n",
    "# from sklearn.model_selection import GridSearchCV\n",
    "# from sklearn.model_selection import RandomizedSearchCV\n",
    "\n",
    "# To get different performance metrics\n",
    "import sklearn.metrics as metrics\n",
    "from sklearn.metrics import (\n",
    "    classification_report,\n",
    "    confusion_matrix,\n",
    "    recall_score,\n",
    "    accuracy_score,\n",
    "    precision_score,\n",
    "    f1_score,\n",
    ")\n",
    "\n",
    "# # To suppress warnings\n",
    "import warnings\n",
    "\n",
    "warnings.filterwarnings(\"ignore\")"
   ]
  },
  {
   "cell_type": "code",
   "execution_count": 2,
   "metadata": {},
   "outputs": [],
   "source": [
    "df = pd.read_csv(\"./Cardiac.csv\")"
   ]
  },
  {
   "cell_type": "code",
   "execution_count": 3,
   "metadata": {},
   "outputs": [
    {
     "name": "stdout",
     "output_type": "stream",
     "text": [
      "<class 'pandas.core.frame.DataFrame'>\n",
      "RangeIndex: 889 entries, 0 to 888\n",
      "Data columns (total 13 columns):\n",
      " #   Column                           Non-Null Count  Dtype \n",
      "---  ------                           --------------  ----- \n",
      " 0   Gender                           889 non-null    object\n",
      " 1   Chain_smoker                     889 non-null    int64 \n",
      " 2   Consumes_other_tobacco_products  889 non-null    int64 \n",
      " 3   HighBP                           889 non-null    int64 \n",
      " 4   Obese                            889 non-null    int64 \n",
      " 5   Diabetes                         889 non-null    int64 \n",
      " 6   Metabolic_syndrome               889 non-null    int64 \n",
      " 7   Use_of_stimulant_drugs           889 non-null    int64 \n",
      " 8   Family_history                   889 non-null    int64 \n",
      " 9   History_of_preeclampsia          889 non-null    int64 \n",
      " 10  CABG_history                     889 non-null    int64 \n",
      " 11  Respiratory_illness              889 non-null    int64 \n",
      " 12  UnderRisk                        889 non-null    object\n",
      "dtypes: int64(11), object(2)\n",
      "memory usage: 90.4+ KB\n"
     ]
    }
   ],
   "source": [
    "df.info()"
   ]
  },
  {
   "cell_type": "code",
   "execution_count": 5,
   "metadata": {},
   "outputs": [
    {
     "data": {
      "text/html": [
       "<div>\n",
       "<style scoped>\n",
       "    .dataframe tbody tr th:only-of-type {\n",
       "        vertical-align: middle;\n",
       "    }\n",
       "\n",
       "    .dataframe tbody tr th {\n",
       "        vertical-align: top;\n",
       "    }\n",
       "\n",
       "    .dataframe thead th {\n",
       "        text-align: right;\n",
       "    }\n",
       "</style>\n",
       "<table border=\"1\" class=\"dataframe\">\n",
       "  <thead>\n",
       "    <tr style=\"text-align: right;\">\n",
       "      <th></th>\n",
       "      <th>Gender</th>\n",
       "      <th>Chain_smoker</th>\n",
       "      <th>Consumes_other_tobacco_products</th>\n",
       "      <th>HighBP</th>\n",
       "      <th>Obese</th>\n",
       "      <th>Diabetes</th>\n",
       "      <th>Metabolic_syndrome</th>\n",
       "      <th>Use_of_stimulant_drugs</th>\n",
       "      <th>Family_history</th>\n",
       "      <th>History_of_preeclampsia</th>\n",
       "      <th>CABG_history</th>\n",
       "      <th>Respiratory_illness</th>\n",
       "      <th>UnderRisk</th>\n",
       "    </tr>\n",
       "  </thead>\n",
       "  <tbody>\n",
       "    <tr>\n",
       "      <th>0</th>\n",
       "      <td>Male</td>\n",
       "      <td>1</td>\n",
       "      <td>1</td>\n",
       "      <td>0</td>\n",
       "      <td>1</td>\n",
       "      <td>0</td>\n",
       "      <td>0</td>\n",
       "      <td>0</td>\n",
       "      <td>1</td>\n",
       "      <td>0</td>\n",
       "      <td>0</td>\n",
       "      <td>0</td>\n",
       "      <td>no</td>\n",
       "    </tr>\n",
       "    <tr>\n",
       "      <th>1</th>\n",
       "      <td>Male</td>\n",
       "      <td>0</td>\n",
       "      <td>1</td>\n",
       "      <td>0</td>\n",
       "      <td>1</td>\n",
       "      <td>0</td>\n",
       "      <td>0</td>\n",
       "      <td>0</td>\n",
       "      <td>1</td>\n",
       "      <td>0</td>\n",
       "      <td>0</td>\n",
       "      <td>0</td>\n",
       "      <td>no</td>\n",
       "    </tr>\n",
       "    <tr>\n",
       "      <th>2</th>\n",
       "      <td>Male</td>\n",
       "      <td>0</td>\n",
       "      <td>1</td>\n",
       "      <td>0</td>\n",
       "      <td>1</td>\n",
       "      <td>0</td>\n",
       "      <td>0</td>\n",
       "      <td>0</td>\n",
       "      <td>1</td>\n",
       "      <td>0</td>\n",
       "      <td>0</td>\n",
       "      <td>0</td>\n",
       "      <td>no</td>\n",
       "    </tr>\n",
       "    <tr>\n",
       "      <th>3</th>\n",
       "      <td>Male</td>\n",
       "      <td>0</td>\n",
       "      <td>1</td>\n",
       "      <td>0</td>\n",
       "      <td>1</td>\n",
       "      <td>0</td>\n",
       "      <td>0</td>\n",
       "      <td>0</td>\n",
       "      <td>1</td>\n",
       "      <td>0</td>\n",
       "      <td>0</td>\n",
       "      <td>0</td>\n",
       "      <td>no</td>\n",
       "    </tr>\n",
       "    <tr>\n",
       "      <th>4</th>\n",
       "      <td>Male</td>\n",
       "      <td>0</td>\n",
       "      <td>0</td>\n",
       "      <td>0</td>\n",
       "      <td>0</td>\n",
       "      <td>0</td>\n",
       "      <td>1</td>\n",
       "      <td>1</td>\n",
       "      <td>0</td>\n",
       "      <td>0</td>\n",
       "      <td>0</td>\n",
       "      <td>0</td>\n",
       "      <td>no</td>\n",
       "    </tr>\n",
       "  </tbody>\n",
       "</table>\n",
       "</div>"
      ],
      "text/plain": [
       "  Gender  Chain_smoker  Consumes_other_tobacco_products  HighBP  Obese  \\\n",
       "0   Male             1                                1       0      1   \n",
       "1   Male             0                                1       0      1   \n",
       "2   Male             0                                1       0      1   \n",
       "3   Male             0                                1       0      1   \n",
       "4   Male             0                                0       0      0   \n",
       "\n",
       "   Diabetes  Metabolic_syndrome  Use_of_stimulant_drugs  Family_history  \\\n",
       "0         0                   0                       0               1   \n",
       "1         0                   0                       0               1   \n",
       "2         0                   0                       0               1   \n",
       "3         0                   0                       0               1   \n",
       "4         0                   1                       1               0   \n",
       "\n",
       "   History_of_preeclampsia  CABG_history  Respiratory_illness UnderRisk  \n",
       "0                        0             0                    0        no  \n",
       "1                        0             0                    0        no  \n",
       "2                        0             0                    0        no  \n",
       "3                        0             0                    0        no  \n",
       "4                        0             0                    0        no  "
      ]
     },
     "execution_count": 5,
     "metadata": {},
     "output_type": "execute_result"
    }
   ],
   "source": [
    "df.head()"
   ]
  },
  {
   "cell_type": "code",
   "execution_count": 7,
   "metadata": {},
   "outputs": [
    {
     "data": {
      "text/plain": [
       "UnderRisk\n",
       "no     0.786277\n",
       "yes    0.213723\n",
       "Name: proportion, dtype: float64"
      ]
     },
     "execution_count": 7,
     "metadata": {},
     "output_type": "execute_result"
    }
   ],
   "source": [
    "# identify percentage of Risk and No Risk\n",
    "df[\"UnderRisk\"].value_counts(normalize=True)"
   ]
  },
  {
   "cell_type": "code",
   "execution_count": 22,
   "metadata": {},
   "outputs": [
    {
     "name": "stdout",
     "output_type": "stream",
     "text": [
      "(533, 13)\n",
      "(178, 13)\n",
      "(178, 13)\n"
     ]
    }
   ],
   "source": [
    "df[\"UnderRisk\"].replace({\"Yes\": 1, \"No\": 0}, inplace=True)\n",
    "\n",
    "X = df.drop(\"UnderRisk\", axis=1)\n",
    "y = df[\"UnderRisk\"]\n",
    "\n",
    "\n",
    "# split the data into train and test\n",
    "X_temp, X_test, Y_temp, y_test = train_test_split(\n",
    "    X,y, test_size=0.2, random_state=1,stratify=y\n",
    ")\n",
    "\n",
    "# split the train data into train and validation\n",
    "X_train, X_val, y_train, y_val = train_test_split(\n",
    "    X_temp, Y_temp, test_size=0.25, random_state=1,stratify=Y_temp\n",
    ")\n",
    " \n",
    " #create dummy variables\n",
    "X_train = pd.get_dummies(X_train,drop_first=True)\n",
    "X_val = pd.get_dummies(X_val,drop_first=True)\n",
    "X_test = pd.get_dummies(X_test,drop_first=True)\n",
    "\n",
    "# print the shape of the train and validation data\n",
    "print(X_train.shape)\n",
    "print(X_val.shape)\n",
    "print(X_test.shape)"
   ]
  },
  {
   "cell_type": "code",
   "execution_count": 23,
   "metadata": {},
   "outputs": [
    {
     "data": {
      "text/html": [
       "<style>#sk-container-id-2 {color: black;}#sk-container-id-2 pre{padding: 0;}#sk-container-id-2 div.sk-toggleable {background-color: white;}#sk-container-id-2 label.sk-toggleable__label {cursor: pointer;display: block;width: 100%;margin-bottom: 0;padding: 0.3em;box-sizing: border-box;text-align: center;}#sk-container-id-2 label.sk-toggleable__label-arrow:before {content: \"▸\";float: left;margin-right: 0.25em;color: #696969;}#sk-container-id-2 label.sk-toggleable__label-arrow:hover:before {color: black;}#sk-container-id-2 div.sk-estimator:hover label.sk-toggleable__label-arrow:before {color: black;}#sk-container-id-2 div.sk-toggleable__content {max-height: 0;max-width: 0;overflow: hidden;text-align: left;background-color: #f0f8ff;}#sk-container-id-2 div.sk-toggleable__content pre {margin: 0.2em;color: black;border-radius: 0.25em;background-color: #f0f8ff;}#sk-container-id-2 input.sk-toggleable__control:checked~div.sk-toggleable__content {max-height: 200px;max-width: 100%;overflow: auto;}#sk-container-id-2 input.sk-toggleable__control:checked~label.sk-toggleable__label-arrow:before {content: \"▾\";}#sk-container-id-2 div.sk-estimator input.sk-toggleable__control:checked~label.sk-toggleable__label {background-color: #d4ebff;}#sk-container-id-2 div.sk-label input.sk-toggleable__control:checked~label.sk-toggleable__label {background-color: #d4ebff;}#sk-container-id-2 input.sk-hidden--visually {border: 0;clip: rect(1px 1px 1px 1px);clip: rect(1px, 1px, 1px, 1px);height: 1px;margin: -1px;overflow: hidden;padding: 0;position: absolute;width: 1px;}#sk-container-id-2 div.sk-estimator {font-family: monospace;background-color: #f0f8ff;border: 1px dotted black;border-radius: 0.25em;box-sizing: border-box;margin-bottom: 0.5em;}#sk-container-id-2 div.sk-estimator:hover {background-color: #d4ebff;}#sk-container-id-2 div.sk-parallel-item::after {content: \"\";width: 100%;border-bottom: 1px solid gray;flex-grow: 1;}#sk-container-id-2 div.sk-label:hover label.sk-toggleable__label {background-color: #d4ebff;}#sk-container-id-2 div.sk-serial::before {content: \"\";position: absolute;border-left: 1px solid gray;box-sizing: border-box;top: 0;bottom: 0;left: 50%;z-index: 0;}#sk-container-id-2 div.sk-serial {display: flex;flex-direction: column;align-items: center;background-color: white;padding-right: 0.2em;padding-left: 0.2em;position: relative;}#sk-container-id-2 div.sk-item {position: relative;z-index: 1;}#sk-container-id-2 div.sk-parallel {display: flex;align-items: stretch;justify-content: center;background-color: white;position: relative;}#sk-container-id-2 div.sk-item::before, #sk-container-id-2 div.sk-parallel-item::before {content: \"\";position: absolute;border-left: 1px solid gray;box-sizing: border-box;top: 0;bottom: 0;left: 50%;z-index: -1;}#sk-container-id-2 div.sk-parallel-item {display: flex;flex-direction: column;z-index: 1;position: relative;background-color: white;}#sk-container-id-2 div.sk-parallel-item:first-child::after {align-self: flex-end;width: 50%;}#sk-container-id-2 div.sk-parallel-item:last-child::after {align-self: flex-start;width: 50%;}#sk-container-id-2 div.sk-parallel-item:only-child::after {width: 0;}#sk-container-id-2 div.sk-dashed-wrapped {border: 1px dashed gray;margin: 0 0.4em 0.5em 0.4em;box-sizing: border-box;padding-bottom: 0.4em;background-color: white;}#sk-container-id-2 div.sk-label label {font-family: monospace;font-weight: bold;display: inline-block;line-height: 1.2em;}#sk-container-id-2 div.sk-label-container {text-align: center;}#sk-container-id-2 div.sk-container {/* jupyter's `normalize.less` sets `[hidden] { display: none; }` but bootstrap.min.css set `[hidden] { display: none !important; }` so we also need the `!important` here to be able to override the default hidden behavior on the sphinx rendered scikit-learn.org. See: https://github.com/scikit-learn/scikit-learn/issues/21755 */display: inline-block !important;position: relative;}#sk-container-id-2 div.sk-text-repr-fallback {display: none;}</style><div id=\"sk-container-id-2\" class=\"sk-top-container\"><div class=\"sk-text-repr-fallback\"><pre>LogisticRegression()</pre><b>In a Jupyter environment, please rerun this cell to show the HTML representation or trust the notebook. <br />On GitHub, the HTML representation is unable to render, please try loading this page with nbviewer.org.</b></div><div class=\"sk-container\" hidden><div class=\"sk-item\"><div class=\"sk-estimator sk-toggleable\"><input class=\"sk-toggleable__control sk-hidden--visually\" id=\"sk-estimator-id-2\" type=\"checkbox\" checked><label for=\"sk-estimator-id-2\" class=\"sk-toggleable__label sk-toggleable__label-arrow\">LogisticRegression</label><div class=\"sk-toggleable__content\"><pre>LogisticRegression()</pre></div></div></div></div></div>"
      ],
      "text/plain": [
       "LogisticRegression()"
      ]
     },
     "execution_count": 23,
     "metadata": {},
     "output_type": "execute_result"
    }
   ],
   "source": [
    "# logistic regression\n",
    "logreg = LogisticRegression()\n",
    "logreg.fit(X_train, y_train )"
   ]
  },
  {
   "cell_type": "code",
   "execution_count": 28,
   "metadata": {},
   "outputs": [
    {
     "name": "stdout",
     "output_type": "stream",
     "text": [
      "Accuracy of logistic regression classifier on train set: 0.79\n",
      "Recall of logistic regression classifier on train set: 0.04\n",
      "Precision of logistic regression classifier on train set: 0.57\n",
      "F1 of logistic regression classifier on train set: 0.07\n"
     ]
    }
   ],
   "source": [
    "# Check the performance of the model on train set\n",
    "y_pred = logreg.predict(X_train)\n",
    "print(\"Accuracy of logistic regression classifier on train set: {:.2f}\".format(accuracy_score(y_train, y_pred)))\n",
    "print(\"Recall of logistic regression classifier on train set: {:.2f}\".format(recall_score(y_train, y_pred, pos_label='yes')))\n",
    "print(\"Precision of logistic regression classifier on train set: {:.2f}\".format(precision_score(y_train, y_pred, pos_label='yes')))\n",
    "print(\"F1 of logistic regression classifier on train set: {:.2f}\".format(f1_score(y_train, y_pred, pos_label='yes')))"
   ]
  },
  {
   "cell_type": "code",
   "execution_count": 30,
   "metadata": {},
   "outputs": [
    {
     "name": "stdout",
     "output_type": "stream",
     "text": [
      "Collecting imblearn\n",
      "  Downloading imblearn-0.0-py2.py3-none-any.whl (1.9 kB)\n",
      "Collecting imbalanced-learn (from imblearn)\n",
      "  Downloading imbalanced_learn-0.12.0-py3-none-any.whl.metadata (8.2 kB)\n",
      "Requirement already satisfied: numpy>=1.17.3 in c:\\users\\sethanga\\appdata\\local\\anaconda3\\envs\\learning\\lib\\site-packages (from imbalanced-learn->imblearn) (1.26.2)\n",
      "Requirement already satisfied: scipy>=1.5.0 in c:\\users\\sethanga\\appdata\\local\\anaconda3\\envs\\learning\\lib\\site-packages (from imbalanced-learn->imblearn) (1.11.4)\n",
      "Requirement already satisfied: scikit-learn>=1.0.2 in c:\\users\\sethanga\\appdata\\local\\anaconda3\\envs\\learning\\lib\\site-packages (from imbalanced-learn->imblearn) (1.3.2)\n",
      "Requirement already satisfied: joblib>=1.1.1 in c:\\users\\sethanga\\appdata\\local\\anaconda3\\envs\\learning\\lib\\site-packages (from imbalanced-learn->imblearn) (1.3.2)\n",
      "Requirement already satisfied: threadpoolctl>=2.0.0 in c:\\users\\sethanga\\appdata\\local\\anaconda3\\envs\\learning\\lib\\site-packages (from imbalanced-learn->imblearn) (3.2.0)\n",
      "Downloading imbalanced_learn-0.12.0-py3-none-any.whl (257 kB)\n",
      "   ---------------------------------------- 0.0/257.7 kB ? eta -:--:--\n",
      "   - -------------------------------------- 10.2/257.7 kB ? eta -:--:--\n",
      "   ------ -------------------------------- 41.0/257.7 kB 487.6 kB/s eta 0:00:01\n",
      "   ---------------- --------------------- 112.6/257.7 kB 930.9 kB/s eta 0:00:01\n",
      "   ---------------------------------------  256.0/257.7 kB 1.7 MB/s eta 0:00:01\n",
      "   ---------------------------------------- 257.7/257.7 kB 1.4 MB/s eta 0:00:00\n",
      "Installing collected packages: imbalanced-learn, imblearn\n",
      "Successfully installed imbalanced-learn-0.12.0 imblearn-0.0\n"
     ]
    }
   ],
   "source": [
    "# smote to handle imbalanced data\n",
    "!pip install imblearn\n",
    "from imblearn.over_sampling import SMOTE\n",
    "sm = SMOTE(sampling_strategy=1, k_neighbors=5, random_state=1)"
   ]
  },
  {
   "cell_type": "code",
   "execution_count": 48,
   "metadata": {},
   "outputs": [
    {
     "name": "stdout",
     "output_type": "stream",
     "text": [
      "(838, 13)\n",
      "(838,)\n",
      "Accuracy of logistic regression classifier on validation set: 0.60\n",
      "Recall of logistic regression classifier on validation set: 0.63\n",
      "Precision of logistic regression classifier on validation set: 0.30\n",
      "F1 of logistic regression classifier on validation set: 0.40\n",
      "Confusion matrix of logistic regression classifier on validation set: \n",
      " [[83 57]\n",
      " [14 24]]\n"
     ]
    }
   ],
   "source": [
    "X_train_over, y_train_over = sm.fit_resample(X_train, y_train)\n",
    "\n",
    "#print the shape of the train and validation data\n",
    "print(X_train_over.shape)\n",
    "print(y_train_over.shape)\n",
    "\n",
    "\n",
    "logreg2 = LogisticRegression()\n",
    "logreg2.fit(X_train_over, y_train_over)\n",
    "\n",
    "# Check the performance of the model on validation set\n",
    "y_pred = logreg2.predict(X_val)\n",
    "print(\"Accuracy of logistic regression classifier on validation set: {:.2f}\".format(accuracy_score(y_val, y_pred)))\n",
    "print(\"Recall of logistic regression classifier on validation set: {:.2f}\".format(recall_score(y_val, y_pred, pos_label='yes')))\n",
    "print(\"Precision of logistic regression classifier on validation set: {:.2f}\".format(precision_score(y_val, y_pred, pos_label='yes')))\n",
    "print(\"F1 of logistic regression classifier on validation set: {:.2f}\".format(f1_score(y_val, y_pred, pos_label='yes')))\n",
    "print(\"Confusion matrix of logistic regression classifier on validation set: \\n\",confusion_matrix(y_val, y_pred))"
   ]
  },
  {
   "cell_type": "code",
   "execution_count": 39,
   "metadata": {},
   "outputs": [
    {
     "name": "stdout",
     "output_type": "stream",
     "text": [
      "Accuracy of random forest classifier on train set: 0.80\n",
      "Recall of random forest classifier on train set: 0.18\n",
      "Precision of random forest classifier on train set: 0.62\n",
      "F1 of random forest classifier on train set: 0.27\n",
      "Confusion matrix of random forest classifier on train set: \n",
      " [[407  12]\n",
      " [ 94  20]]\n",
      "True positives:  20\n"
     ]
    }
   ],
   "source": [
    "# random forest classifier\n",
    "from sklearn.ensemble import RandomForestClassifier\n",
    "rf = RandomForestClassifier(random_state=1)\n",
    "rf.fit(X_train, y_train)\n",
    "\n",
    "# Check the performance of the model on Train set\\\n",
    "y_pred = rf.predict(X_train)\n",
    "print(\"Accuracy of random forest classifier on train set: {:.2f}\".format(accuracy_score(y_train, y_pred)))\n",
    "print(\"Recall of random forest classifier on train set: {:.2f}\".format(recall_score(y_train, y_pred, pos_label='yes')))\n",
    "print(\"Precision of random forest classifier on train set: {:.2f}\".format(precision_score(y_train, y_pred, pos_label='yes')))\n",
    "print(\"F1 of random forest classifier on train set: {:.2f}\".format(f1_score(y_train, y_pred, pos_label='yes')))\n",
    "print(\"Confusion matrix of random forest classifier on train set: \\n\",confusion_matrix(y_train, y_pred))\n",
    "\n",
    "print(\"True positives: \",confusion_matrix(y_train, y_pred)[1,1])\n"
   ]
  },
  {
   "cell_type": "code",
   "execution_count": null,
   "metadata": {},
   "outputs": [],
   "source": []
  },
  {
   "cell_type": "code",
   "execution_count": 57,
   "metadata": {},
   "outputs": [
    {
     "name": "stdout",
     "output_type": "stream",
     "text": [
      "(838, 13)\n",
      "(838,)\n",
      "[0.77380952 0.80952381 0.67857143 0.75903614 0.83333333]\n"
     ]
    }
   ],
   "source": [
    "X_train_over, y_train_over = sm.fit_resample(X_train, y_train)\n",
    "\n",
    "y_train_over.replace({\"yes\": 1, \"no\": 0}, inplace=True)\n",
    "\n",
    "#print the shape of the train and validation data\n",
    "print(X_train_over.shape)\n",
    "print(y_train_over.shape)\n",
    "\n",
    "\n",
    "# random forest classifier\n",
    "model = RandomForestClassifier(random_state=1)\n",
    "\n",
    "# cross validation\n",
    "from sklearn.model_selection import StratifiedKFold, cross_val_score\n",
    "\n",
    "scoring = \"recall\"\n",
    "\n",
    "kfold = StratifiedKFold(n_splits=5, random_state=1,shuffle=True)  # 5-fold cross validation\n",
    "\n",
    "results = cross_val_score(estimator=model, X=X_train_over, y=y_train_over, cv=kfold, scoring=scoring)\n",
    "\n",
    "print(results)\n",
    " "
   ]
  },
  {
   "cell_type": "code",
   "execution_count": 58,
   "metadata": {},
   "outputs": [
    {
     "name": "stdout",
     "output_type": "stream",
     "text": [
      "Mean of cross validation scores for BaggingClassifier is: 0.7684452094090648\n",
      "Mean of cross validation scores for RandomForestClassifier is: 0.7708548479632817\n",
      "Mean of cross validation scores for LogisticRegression is: 0.7613310384394723\n",
      "Mean of cross validation scores for DecisionTreeClassifier is: 0.7684452094090648\n"
     ]
    }
   ],
   "source": [
    "y_train_over.replace({\"yes\": 1, \"no\": 0}, inplace=True)\n",
    "\n",
    "from sklearn.ensemble import BaggingClassifier\n",
    "from sklearn.model_selection import StratifiedKFold\n",
    "from sklearn.tree import DecisionTreeClassifier\n",
    "from sklearn.ensemble import RandomForestClassifier\n",
    "from sklearn.linear_model import LogisticRegression\n",
    "\n",
    "# create a function to build the models\n",
    "\n",
    "def build_model(model_name):\n",
    "    if model_name == \"BaggingClassifier\":\n",
    "        model = BaggingClassifier(random_state=1)\n",
    "    elif model_name == \"RandomForestClassifier\":\n",
    "        model = RandomForestClassifier(random_state=1)\n",
    "    elif model_name == \"LogisticRegression\":\n",
    "        model = LogisticRegression(random_state=1)\n",
    "    elif model_name == \"DecisionTreeClassifier\":\n",
    "        model = DecisionTreeClassifier(random_state=1)\n",
    "    else:\n",
    "        print(\"Please select a model from the list\")\n",
    "        return None\n",
    "    #model.fit(X_train_over, y_train_over)\n",
    "    return model\n",
    "\n",
    "models = [ \"BaggingClassifier\" , \"RandomForestClassifier\" , \"LogisticRegression\" , \"DecisionTreeClassifier\"  ]\n",
    "# build the models\n",
    "for model_name in models:\n",
    "    model = build_model(model_name)\n",
    "   # y_pred = model.predict(X_train_over)\n",
    "\n",
    "    # cross validation\n",
    "    from sklearn.model_selection import cross_val_score\n",
    "    scoring = \"recall\"\n",
    "\n",
    "    kfold = StratifiedKFold(\n",
    "\n",
    "        n_splits=5, shuffle=True, random_state=1\n",
    "\n",
    "    )  # Setting number of splits equal to 5\n",
    "\n",
    "    cv_result = cross_val_score(\n",
    "        estimator=model, X=X_train_over, y=y_train_over, scoring=scoring, cv=kfold\n",
    "    )\n",
    "    \n",
    "    print(\"Mean of cross validation scores for {} is: {}\".format(model_name, cv_result.mean() ))\n",
    "    # print(\"Standard deviation of cross validation scores for {} is: {}\".format(model_name, cv_result.std()))\n",
    "    # print(\"Recall of {} on train set: {:.2f}\".format(model_name, recall_score(y_train, y_pred, pos_label='yes')))\n",
    "    # print(\"Accuracy of {} on train set: {:.2f}\".format(model_name, accuracy_score(y_train, y_pred)))\n",
    "    # print(\"Precision of {} on train set: {:.2f}\".format(model_name, precision_score(y_train, y_pred, pos_label='yes')))\n",
    "    # print(\"F1 of {} on train set: {:.2f}\".format(model_name, f1_score(y_train, y_pred, pos_label='yes')))\n",
    "    # print(\"Confusion matrix of {} on train set: \\n\".format(model_name),confusion_matrix(y_train, y_pred))\n",
    "\n",
    "\n",
    "    "
   ]
  },
  {
   "cell_type": "code",
   "execution_count": 61,
   "metadata": {},
   "outputs": [
    {
     "data": {
      "text/html": [
       "<style>#sk-container-id-3 {color: black;}#sk-container-id-3 pre{padding: 0;}#sk-container-id-3 div.sk-toggleable {background-color: white;}#sk-container-id-3 label.sk-toggleable__label {cursor: pointer;display: block;width: 100%;margin-bottom: 0;padding: 0.3em;box-sizing: border-box;text-align: center;}#sk-container-id-3 label.sk-toggleable__label-arrow:before {content: \"▸\";float: left;margin-right: 0.25em;color: #696969;}#sk-container-id-3 label.sk-toggleable__label-arrow:hover:before {color: black;}#sk-container-id-3 div.sk-estimator:hover label.sk-toggleable__label-arrow:before {color: black;}#sk-container-id-3 div.sk-toggleable__content {max-height: 0;max-width: 0;overflow: hidden;text-align: left;background-color: #f0f8ff;}#sk-container-id-3 div.sk-toggleable__content pre {margin: 0.2em;color: black;border-radius: 0.25em;background-color: #f0f8ff;}#sk-container-id-3 input.sk-toggleable__control:checked~div.sk-toggleable__content {max-height: 200px;max-width: 100%;overflow: auto;}#sk-container-id-3 input.sk-toggleable__control:checked~label.sk-toggleable__label-arrow:before {content: \"▾\";}#sk-container-id-3 div.sk-estimator input.sk-toggleable__control:checked~label.sk-toggleable__label {background-color: #d4ebff;}#sk-container-id-3 div.sk-label input.sk-toggleable__control:checked~label.sk-toggleable__label {background-color: #d4ebff;}#sk-container-id-3 input.sk-hidden--visually {border: 0;clip: rect(1px 1px 1px 1px);clip: rect(1px, 1px, 1px, 1px);height: 1px;margin: -1px;overflow: hidden;padding: 0;position: absolute;width: 1px;}#sk-container-id-3 div.sk-estimator {font-family: monospace;background-color: #f0f8ff;border: 1px dotted black;border-radius: 0.25em;box-sizing: border-box;margin-bottom: 0.5em;}#sk-container-id-3 div.sk-estimator:hover {background-color: #d4ebff;}#sk-container-id-3 div.sk-parallel-item::after {content: \"\";width: 100%;border-bottom: 1px solid gray;flex-grow: 1;}#sk-container-id-3 div.sk-label:hover label.sk-toggleable__label {background-color: #d4ebff;}#sk-container-id-3 div.sk-serial::before {content: \"\";position: absolute;border-left: 1px solid gray;box-sizing: border-box;top: 0;bottom: 0;left: 50%;z-index: 0;}#sk-container-id-3 div.sk-serial {display: flex;flex-direction: column;align-items: center;background-color: white;padding-right: 0.2em;padding-left: 0.2em;position: relative;}#sk-container-id-3 div.sk-item {position: relative;z-index: 1;}#sk-container-id-3 div.sk-parallel {display: flex;align-items: stretch;justify-content: center;background-color: white;position: relative;}#sk-container-id-3 div.sk-item::before, #sk-container-id-3 div.sk-parallel-item::before {content: \"\";position: absolute;border-left: 1px solid gray;box-sizing: border-box;top: 0;bottom: 0;left: 50%;z-index: -1;}#sk-container-id-3 div.sk-parallel-item {display: flex;flex-direction: column;z-index: 1;position: relative;background-color: white;}#sk-container-id-3 div.sk-parallel-item:first-child::after {align-self: flex-end;width: 50%;}#sk-container-id-3 div.sk-parallel-item:last-child::after {align-self: flex-start;width: 50%;}#sk-container-id-3 div.sk-parallel-item:only-child::after {width: 0;}#sk-container-id-3 div.sk-dashed-wrapped {border: 1px dashed gray;margin: 0 0.4em 0.5em 0.4em;box-sizing: border-box;padding-bottom: 0.4em;background-color: white;}#sk-container-id-3 div.sk-label label {font-family: monospace;font-weight: bold;display: inline-block;line-height: 1.2em;}#sk-container-id-3 div.sk-label-container {text-align: center;}#sk-container-id-3 div.sk-container {/* jupyter's `normalize.less` sets `[hidden] { display: none; }` but bootstrap.min.css set `[hidden] { display: none !important; }` so we also need the `!important` here to be able to override the default hidden behavior on the sphinx rendered scikit-learn.org. See: https://github.com/scikit-learn/scikit-learn/issues/21755 */display: inline-block !important;position: relative;}#sk-container-id-3 div.sk-text-repr-fallback {display: none;}</style><div id=\"sk-container-id-3\" class=\"sk-top-container\"><div class=\"sk-text-repr-fallback\"><pre>RandomizedSearchCV(cv=5, estimator=AdaBoostClassifier(random_state=1),\n",
       "                   n_iter=50, n_jobs=-1,\n",
       "                   param_distributions={&#x27;base_estimator&#x27;: [DecisionTreeClassifier(max_depth=1,\n",
       "                                                                                  random_state=1),\n",
       "                                                           DecisionTreeClassifier(max_depth=2,\n",
       "                                                                                  random_state=1),\n",
       "                                                           DecisionTreeClassifier(max_depth=3,\n",
       "                                                                                  random_state=1)],\n",
       "                                        &#x27;learning_rate&#x27;: [0.1, 0.01, 0.2, 0.05,\n",
       "                                                          1],\n",
       "                                        &#x27;n_estimators&#x27;: array([ 10,  20,  30,  40,  50,  60,  70,  80,  90, 100])},\n",
       "                   random_state=1, scoring=make_scorer(recall_score))</pre><b>In a Jupyter environment, please rerun this cell to show the HTML representation or trust the notebook. <br />On GitHub, the HTML representation is unable to render, please try loading this page with nbviewer.org.</b></div><div class=\"sk-container\" hidden><div class=\"sk-item sk-dashed-wrapped\"><div class=\"sk-label-container\"><div class=\"sk-label sk-toggleable\"><input class=\"sk-toggleable__control sk-hidden--visually\" id=\"sk-estimator-id-3\" type=\"checkbox\" ><label for=\"sk-estimator-id-3\" class=\"sk-toggleable__label sk-toggleable__label-arrow\">RandomizedSearchCV</label><div class=\"sk-toggleable__content\"><pre>RandomizedSearchCV(cv=5, estimator=AdaBoostClassifier(random_state=1),\n",
       "                   n_iter=50, n_jobs=-1,\n",
       "                   param_distributions={&#x27;base_estimator&#x27;: [DecisionTreeClassifier(max_depth=1,\n",
       "                                                                                  random_state=1),\n",
       "                                                           DecisionTreeClassifier(max_depth=2,\n",
       "                                                                                  random_state=1),\n",
       "                                                           DecisionTreeClassifier(max_depth=3,\n",
       "                                                                                  random_state=1)],\n",
       "                                        &#x27;learning_rate&#x27;: [0.1, 0.01, 0.2, 0.05,\n",
       "                                                          1],\n",
       "                                        &#x27;n_estimators&#x27;: array([ 10,  20,  30,  40,  50,  60,  70,  80,  90, 100])},\n",
       "                   random_state=1, scoring=make_scorer(recall_score))</pre></div></div></div><div class=\"sk-parallel\"><div class=\"sk-parallel-item\"><div class=\"sk-item\"><div class=\"sk-label-container\"><div class=\"sk-label sk-toggleable\"><input class=\"sk-toggleable__control sk-hidden--visually\" id=\"sk-estimator-id-4\" type=\"checkbox\" ><label for=\"sk-estimator-id-4\" class=\"sk-toggleable__label sk-toggleable__label-arrow\">estimator: AdaBoostClassifier</label><div class=\"sk-toggleable__content\"><pre>AdaBoostClassifier(random_state=1)</pre></div></div></div><div class=\"sk-serial\"><div class=\"sk-item\"><div class=\"sk-estimator sk-toggleable\"><input class=\"sk-toggleable__control sk-hidden--visually\" id=\"sk-estimator-id-5\" type=\"checkbox\" ><label for=\"sk-estimator-id-5\" class=\"sk-toggleable__label sk-toggleable__label-arrow\">AdaBoostClassifier</label><div class=\"sk-toggleable__content\"><pre>AdaBoostClassifier(random_state=1)</pre></div></div></div></div></div></div></div></div></div></div>"
      ],
      "text/plain": [
       "RandomizedSearchCV(cv=5, estimator=AdaBoostClassifier(random_state=1),\n",
       "                   n_iter=50, n_jobs=-1,\n",
       "                   param_distributions={'base_estimator': [DecisionTreeClassifier(max_depth=1,\n",
       "                                                                                  random_state=1),\n",
       "                                                           DecisionTreeClassifier(max_depth=2,\n",
       "                                                                                  random_state=1),\n",
       "                                                           DecisionTreeClassifier(max_depth=3,\n",
       "                                                                                  random_state=1)],\n",
       "                                        'learning_rate': [0.1, 0.01, 0.2, 0.05,\n",
       "                                                          1],\n",
       "                                        'n_estimators': array([ 10,  20,  30,  40,  50,  60,  70,  80,  90, 100])},\n",
       "                   random_state=1, scoring=make_scorer(recall_score))"
      ]
     },
     "execution_count": 61,
     "metadata": {},
     "output_type": "execute_result"
    }
   ],
   "source": [
    "# build the models with hyperparameter tuning with ada boost classifier\n",
    "from sklearn.ensemble import AdaBoostClassifier\n",
    "from sklearn.model_selection import GridSearchCV, RandomizedSearchCV\n",
    "from sklearn.model_selection import StratifiedKFold\n",
    "from sklearn.tree import DecisionTreeClassifier\n",
    "\n",
    "model = AdaBoostClassifier(random_state=1)\n",
    "\n",
    "# create a function to build the models\n",
    "param_grid = {\n",
    "\n",
    "    \"n_estimators\": np.arange(10, 110, 10),\n",
    "\n",
    "    \"learning_rate\": [0.1, 0.01, 0.2, 0.05, 1],\n",
    "\n",
    "    \"base_estimator\": [\n",
    "\n",
    "        DecisionTreeClassifier(max_depth=1, random_state=1),\n",
    "\n",
    "        DecisionTreeClassifier(max_depth=2, random_state=1),\n",
    "\n",
    "        DecisionTreeClassifier(max_depth=3, random_state=1),\n",
    "\n",
    "    ],\n",
    "\n",
    "}\n",
    "\n",
    "# Type of scoring used to compare parameter combinations\n",
    "\n",
    "scorer = metrics.make_scorer(metrics.recall_score)\n",
    "\n",
    "randomized_cv = RandomizedSearchCV(\n",
    "\n",
    "    estimator=model,\n",
    "\n",
    "    param_distributions=param_grid,\n",
    "\n",
    "    n_jobs=-1,\n",
    "\n",
    "    n_iter=50,\n",
    "\n",
    "    scoring=scorer,\n",
    "\n",
    "    cv=5,\n",
    "\n",
    "    random_state=1,\n",
    "\n",
    ")\n",
    "\n",
    "randomized_cv.fit(X_train_over, y_train_over)\n",
    " \n",
    " \n",
    " "
   ]
  },
  {
   "cell_type": "code",
   "execution_count": 62,
   "metadata": {},
   "outputs": [
    {
     "data": {
      "text/plain": [
       "{'n_estimators': 70,\n",
       " 'learning_rate': 0.01,\n",
       " 'base_estimator': DecisionTreeClassifier(max_depth=1, random_state=1)}"
      ]
     },
     "execution_count": 62,
     "metadata": {},
     "output_type": "execute_result"
    }
   ],
   "source": [
    "randomized_cv.best_params_"
   ]
  },
  {
   "cell_type": "code",
   "execution_count": 66,
   "metadata": {},
   "outputs": [
    {
     "name": "stdout",
     "output_type": "stream",
     "text": [
      "Accuracy of AdaBoost classifier on train set: 0.67\n",
      "Recall of AdaBoost classifier on train set: 0.78\n",
      "Precision of AdaBoost classifier on train set: 0.64\n",
      "F1 of AdaBoost classifier on train set: 0.70\n",
      "Confusion matrix of AdaBoost classifier on train set: \n",
      " [[232 187]\n",
      " [ 93 326]]\n",
      "Accuracy of AdaBoost classifier on train set: 0.71\n",
      "Recall of AdaBoost classifier on train set: 0.84\n",
      "Precision of AdaBoost classifier on train set: 0.66\n",
      "F1 of AdaBoost classifier on train set: 0.74\n",
      "Confusion matrix of AdaBoost classifier on train set: \n",
      " [[65 49]\n",
      " [18 96]]\n"
     ]
    }
   ],
   "source": [
    " # undersampling\n",
    "from imblearn.under_sampling import RandomUnderSampler\n",
    "rus = RandomUnderSampler(random_state=1)\n",
    "X_train_under, y_train_under = rus.fit_resample(X_train, y_train)\n",
    "\n",
    "# ada boost classifier\n",
    "from sklearn.ensemble import AdaBoostClassifier\n",
    "\n",
    "model = AdaBoostClassifier(random_state=1)\n",
    "\n",
    "\n",
    "\n",
    "model.fit(X_train_over, y_train_over)\n",
    "\n",
    "# Check the performance of the model on Train set\n",
    "y_pred = model.predict(X_train_over)\n",
    "print(\"Accuracy of AdaBoost classifier on train set: {:.2f}\".format(accuracy_score(y_train_over, y_pred)))\n",
    "print(\"Recall of AdaBoost classifier on train set: {:.2f}\".format(recall_score(y_train_over, y_pred)))\n",
    "print(\"Precision of AdaBoost classifier on train set: {:.2f}\".format(precision_score(y_train_over, y_pred)))\n",
    "print(\"F1 of AdaBoost classifier on train set: {:.2f}\".format(f1_score(y_train_over, y_pred)))\n",
    "print(\"Confusion matrix of AdaBoost classifier on train set: \\n\",confusion_matrix(y_train_over, y_pred))\n",
    "\n",
    "\n",
    "\n",
    "\n",
    "# cross validation\n",
    "model.fit(X_train_under, y_train_under)\n",
    "\n",
    "# Check the performance of the model on Train set\n",
    "y_pred = model.predict(X_train_under)\n",
    "print(\"Accuracy of AdaBoost classifier on train set: {:.2f}\".format(accuracy_score(y_train_under, y_pred)))\n",
    "print(\"Recall of AdaBoost classifier on train set: {:.2f}\".format(recall_score(y_train_under, y_pred, pos_label='yes')))\n",
    "print(\"Precision of AdaBoost classifier on train set: {:.2f}\".format(precision_score(y_train_under, y_pred, pos_label='yes')))\n",
    "print(\"F1 of AdaBoost classifier on train set: {:.2f}\".format(f1_score(y_train_under, y_pred, pos_label='yes')))\n",
    "print(\"Confusion matrix of AdaBoost classifier on train set: \\n\",confusion_matrix(y_train_under, y_pred))\n",
    "\n",
    "# Important features\n",
    "feature_importance = pd.DataFrame(\n",
    "    {\"feature\": X_train.columns, \"importance\": model.feature_importances_}\n",
    ")\n",
    "\n"
   ]
  },
  {
   "cell_type": "code",
   "execution_count": 68,
   "metadata": {},
   "outputs": [
    {
     "data": {
      "image/png": "[encoded data removed]",
      "text/plain": [
       "<Figure size 1000x1000 with 1 Axes>"
      ]
     },
     "metadata": {},
     "output_type": "display_data"
    }
   ],
   "source": [
    "# Plot the count plot for feature importance\n",
    "import seaborn as sns\n",
    "import matplotlib.pyplot as plt\n",
    "\n",
    "plt.figure(figsize=(10, 10))\n",
    "sns.barplot(\n",
    "    x=\"importance\", y=\"feature\", data=feature_importance.sort_values(by=\"importance\", ascending=False)\n",
    ")\n",
    "plt.title(\"AdaBoost Classifier Feature Importance\")\n",
    "plt.tight_layout()\n",
    "plt.show()\n"
   ]
  }
 ],
 "metadata": {
  "kernelspec": {
   "display_name": "Learning",
   "language": "python",
   "name": "python3"
  },
  "language_info": {
   "codemirror_mode": {
    "name": "ipython",
    "version": 3
   },
   "file_extension": ".py",
   "mimetype": "text/x-python",
   "name": "python",
   "nbconvert_exporter": "python",
   "pygments_lexer": "ipython3",
   "version": "3.11.5"
  }
 },
 "nbformat": 4,
 "nbformat_minor": 2
}
